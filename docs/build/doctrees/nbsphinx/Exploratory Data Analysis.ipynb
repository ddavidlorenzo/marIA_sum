{
 "cells": [
  {
   "cell_type": "markdown",
   "metadata": {},
   "source": [
    "<div style=\"width: 100%; height: 120px\">\n",
    "    <img src=\"https://www.upm.es/sfs/Rectorado/Gabinete%20del%20Rector/Logos/UPM/Logotipo%20con%20Leyenda/LOGOTIPO%20leyenda%20color%20PNG.png\", align=\"left\"; width=\"250px\">\n",
    "</div>\n",
    "<div style=\"float: center; width: 100%;\">\n",
    "    <h2>Exploratory Data Analysis of the <i> XL-Sum </i> dataset.</h2>\n",
    "    <h4> As part of the MSc. dissertation: Applying large Spanish language models to Natural Language Processing tasks. </h4>\n",
    "    <p>David Lorenzo Alfaro</p>\n",
    "    <p>July, 2022</p>\n",
    "</div>"
   ]
  },
  {
   "cell_type": "code",
   "execution_count": 28,
   "metadata": {},
   "outputs": [],
   "source": [
    "import pandas as pd\n",
    "import numpy as np\n",
    "import os\n",
    "import time\n",
    "import matplotlib.pyplot as plt\n",
    "from transformers import AutoTokenizer, GPT2LMHeadModel, RobertaForMaskedLM\n",
    "from utils import get_tokenized_text, makedir\n",
    "from typing import Iterable, Union\n",
    "from pathlib import Path"
   ]
  },
  {
   "cell_type": "markdown",
   "metadata": {},
   "source": [
    "## Preliminary data analysis"
   ]
  },
  {
   "cell_type": "markdown",
   "metadata": {},
   "source": [
    "Let us first load the data from disk. It is a prerrequisite to either have it downloaded locally and located in a subdirectory called ``summaries/``, or make the appropriate modifications to the code to load it (e.g., via the HuggingFace's datasets library, `wget` request/s). In particular, we gathered the data from the *XL-Sum* official [GitHub repository](https://github.com/csebuetnlp/xl-sum)"
   ]
  },
  {
   "cell_type": "code",
   "execution_count": 10,
   "metadata": {},
   "outputs": [],
   "source": [
    "DATA_DIR = Path('summaries/all')\n",
    "TRAIN_PATH = Path(DATA_DIR, 'train.jsonl')\n",
    "VAL_PATH = Path(DATA_DIR, 'val.jsonl')\n",
    "TEST_PATH = Path(DATA_DIR, 'test.jsonl')"
   ]
  },
  {
   "cell_type": "markdown",
   "metadata": {},
   "source": [
    "The necessary columns in the dataset are as listed:\n",
    "* `text`: content of an article.\n",
    "* `summary`: summary of an article.\n",
    "* `id`: unique identifier of the article.\n",
    "\n",
    "Indeed, other than article-summary pairs, all remaining information may be disregarded for the task that we are aimed at conducting.\n",
    "\n",
    "Let us first load the training dataset to inspect some of its properties"
   ]
  },
  {
   "cell_type": "code",
   "execution_count": 11,
   "metadata": {},
   "outputs": [],
   "source": [
    "df_train = pd.read_json(TRAIN_PATH, lines=True)[[\"id\", \"summary\", \"text\"]]"
   ]
  },
  {
   "cell_type": "markdown",
   "metadata": {},
   "source": [
    "Now, let us print the first $k$ elements of the training dataset"
   ]
  },
  {
   "cell_type": "code",
   "execution_count": 12,
   "metadata": {},
   "outputs": [
    {
     "name": "stdout",
     "output_type": "stream",
     "text": [
      "id:140930_ultnot_siria_onu_comida_ch\n",
      "Text: De no recibir más dinero, las raciones de la ONU en Siria se terminarán en dos meses. En un informe al Consejo de Seguridad de la ONU, Amos dijo que las raciones del PMA destinadas a los 4.000.000 de sirios ya han sido recortadas para poder llegar a la mayor cantidad de personas posible. Amos también hizo un llamado a juntar suministros para proteger a los sirios del frío, en miras al próximo invierno. \n",
      "Summary: La directora de ayuda humanitaria de Naciones Unidas, Valerie Amos, advirtió que de no invertir más dinero, el Programa Mundial de Alimentos tendrá que detener sus operaciones en Siria en dos meses.\n",
      "\n",
      "id:130809_ultnot_protesta_cachemira_protesa_aa\n",
      "Text: Manifestantes hindúes gritan consignas contra el gobierno en la región de Cachemira administrada por India. Las manifestaciones tuvieron lugar después de los rezos especiales Eid, en la ciudad de Srinagar y en diversas ciudades de la región. La policía dice que la respuesta se produjo cuando la muchedumbre se volvió violenta y empezó a lanzarles palos y piedras. Varios policías y manifestantes resultaron heridos. El jueves a la noche diversos líderes separatistas fueron arrestados para evitar que lideraran las protestas. \n",
      "Summary: La policía en la región de Cachemira administrada por India, lanzó gas lacrimógeno y disparó balas de goma para dispersar una protesa contra supuestas violaciones de los derechos humanos llevadas a cabo por las fuerzas del gobierno.\n",
      "\n",
      "id:media-37220890\n",
      "Text: Así lo vemos en esta animación que muestra cómo el río busca nuevos caminos. Si bien el mundo ha perdido millones de litros de agua, también se han ganado 115.000 kilómetros cuadrados. La zona donde ha habido un mayor aumento de agua en el mundo es en la meseta tibetana (donde el derretimiento de glaciares está creando lagos). Pero es en el Amazonas donde esta lucha es más evidente. \n",
      "Summary: La naturaleza es un hueso duro de roer.\n",
      "\n"
     ]
    }
   ],
   "source": [
    "top_k=3\n",
    "for i, (idx, s,t) in enumerate(zip(df_train.id, df_train.summary, df_train.text)):\n",
    "    if i >= top_k:\n",
    "        break\n",
    "    print(f'id:{idx}\\nText: {t} \\nSummary: {s}', end=\"\\n\\n\")"
   ]
  },
  {
   "cell_type": "markdown",
   "metadata": {},
   "source": [
    "Alternatively, one can resort to the built-in function `head` available in `pd.DataFrame` objects."
   ]
  },
  {
   "cell_type": "code",
   "execution_count": 13,
   "metadata": {},
   "outputs": [
    {
     "data": {
      "text/html": [
       "<div>\n",
       "<style scoped>\n",
       "    .dataframe tbody tr th:only-of-type {\n",
       "        vertical-align: middle;\n",
       "    }\n",
       "\n",
       "    .dataframe tbody tr th {\n",
       "        vertical-align: top;\n",
       "    }\n",
       "\n",
       "    .dataframe thead th {\n",
       "        text-align: right;\n",
       "    }\n",
       "</style>\n",
       "<table border=\"1\" class=\"dataframe\">\n",
       "  <thead>\n",
       "    <tr style=\"text-align: right;\">\n",
       "      <th></th>\n",
       "      <th>id</th>\n",
       "      <th>summary</th>\n",
       "      <th>text</th>\n",
       "    </tr>\n",
       "  </thead>\n",
       "  <tbody>\n",
       "    <tr>\n",
       "      <th>0</th>\n",
       "      <td>140930_ultnot_siria_onu_comida_ch</td>\n",
       "      <td>La directora de ayuda humanitaria de Naciones ...</td>\n",
       "      <td>De no recibir más dinero, las raciones de la O...</td>\n",
       "    </tr>\n",
       "    <tr>\n",
       "      <th>1</th>\n",
       "      <td>130809_ultnot_protesta_cachemira_protesa_aa</td>\n",
       "      <td>La policía en la región de Cachemira administr...</td>\n",
       "      <td>Manifestantes hindúes gritan consignas contra ...</td>\n",
       "    </tr>\n",
       "    <tr>\n",
       "      <th>2</th>\n",
       "      <td>media-37220890</td>\n",
       "      <td>La naturaleza es un hueso duro de roer.</td>\n",
       "      <td>Así lo vemos en esta animación que muestra cóm...</td>\n",
       "    </tr>\n",
       "  </tbody>\n",
       "</table>\n",
       "</div>"
      ],
      "text/plain": [
       "                                            id  \\\n",
       "0            140930_ultnot_siria_onu_comida_ch   \n",
       "1  130809_ultnot_protesta_cachemira_protesa_aa   \n",
       "2                               media-37220890   \n",
       "\n",
       "                                             summary  \\\n",
       "0  La directora de ayuda humanitaria de Naciones ...   \n",
       "1  La policía en la región de Cachemira administr...   \n",
       "2            La naturaleza es un hueso duro de roer.   \n",
       "\n",
       "                                                text  \n",
       "0  De no recibir más dinero, las raciones de la O...  \n",
       "1  Manifestantes hindúes gritan consignas contra ...  \n",
       "2  Así lo vemos en esta animación que muestra cóm...  "
      ]
     },
     "execution_count": 13,
     "metadata": {},
     "output_type": "execute_result"
    }
   ],
   "source": [
    "df_train.head(top_k)"
   ]
  },
  {
   "cell_type": "markdown",
   "metadata": {},
   "source": [
    "### Impact of the limited dimensionality of the Language Models for Abstractive Summarization"
   ]
  },
  {
   "cell_type": "markdown",
   "metadata": {},
   "source": [
    "Both GPT-2 and RoBERTa work on the subword level. All spanish language models from the MarIA project have a limited dimensionality of 512 tokens (or subwords). Furthermore, in order to generate summaries on a decoder-only system, both the text and the summary must fit into the model, which imposes further restrictions on the amount of instances in the dataset that can be processed in as as-is fashion (i.e., without needing to do any further modification in the text/summary of those instances before feeding them into the model). In summarization tasks, where the prominent practice is to strive for models with larger dimensionalities, this shortcoming is of vital relevance because it necessarily constraints the capabilities of the models to work with large texts."
   ]
  },
  {
   "cell_type": "markdown",
   "metadata": {},
   "source": [
    "### Training set"
   ]
  },
  {
   "cell_type": "markdown",
   "metadata": {},
   "source": [
    "Let us inspect the number of *valid* instances (those that fit into the model) in the training set of data, using the GPT-2 model, and a RoBERTa2RoBERTa (a.k.a. RoBERTaShared) model. To that end, we will compute the number of article and summary tokens using the GPT-2 tokenizer for the spanish LM, and the number of article tokens using the RoBERTa tokenizer. Note that there is no need to compute the per-summary no. of tokens because this model will be subsequently used as the *warmed-up* models of an encoder-decoder system. However, we will also yield this statistic in order to further study some properties about the length of the summaries, which can be of vital relevance in the generation of the summaries.\n",
    "\n",
    "Beforehand, let us define some useful functions that will enable us to comptue the number of tokens of a collection of tokens using a tokenizer (`calc_document_tokens`), and to plot histograms for article and summary length (also in terms of subwords) and a scatterplot relating these two random variables."
   ]
  },
  {
   "cell_type": "code",
   "execution_count": 57,
   "metadata": {},
   "outputs": [],
   "source": [
    "def calc_document_tokens(documents:Iterable, tokenizer:Union[str, Path]):\n",
    "    \"\"\" Compute the number of tokens of a collection of documents using a pretrained tokenizer\n",
    "    \n",
    "    Parameters\n",
    "    ----------\n",
    "    documents : Iterable\n",
    "        Collection of documents\n",
    "        \n",
    "    tokenizer : Union[str, Path]\n",
    "        Model identifier of a predefined tokenizer hosted inside a model repo\n",
    "         on huggingface.co\n",
    "    \"\"\"\n",
    "    # Load tokenizer\n",
    "    tokenizer = AutoTokenizer.from_pretrained(tokenizer)\n",
    "\n",
    "    return [len(get_tokenized_text(doc, tokenizer)) for doc in documents]\n",
    "\n",
    "def plot_stats(article_tokens:Iterable, summary_tokens:Iterable, hist_bins=20, scatter_marker_size=3):\n",
    "    \"\"\" Plot some statistics about the article and summary tokens.\n",
    "    \n",
    "    Parameters\n",
    "    ----------\n",
    "    article_tokens : Iterable\n",
    "        Collection of per-sample article tokens\n",
    "        \n",
    "    summary_tokens : Iterable\n",
    "        Collection of per-sample summary tokens\n",
    "    \n",
    "    hist_bins : int\n",
    "        Number of bins used to discretize data for histograms, defaults to 20\n",
    "        \n",
    "    scatter_marker_size : int\n",
    "        Marker size of the scatter-plot, defaults to 3\n",
    "    \"\"\"\n",
    "    fig, (ax1, ax2, ax3) = plt.subplots(ncols=3)\n",
    "    ax1.hist(article_tokens, bins=hist_bins)\n",
    "    ax2.hist(summary_tokens, bins=hist_bins)\n",
    "    ax3.scatter(article_tokens, summary_tokens, s=scatter_marker_size)\n",
    "    fig.set_size_inches(12,4)\n",
    "    fig.tight_layout()"
   ]
  },
  {
   "cell_type": "markdown",
   "metadata": {},
   "source": [
    "Now, let us compute the of tokens for the articles and summaries using the tokenizers of the GPT-2 and RoBERTa checkpoints."
   ]
  },
  {
   "cell_type": "code",
   "execution_count": 17,
   "metadata": {},
   "outputs": [
    {
     "name": "stderr",
     "output_type": "stream",
     "text": [
      "Special tokens have been added in the vocabulary, make sure the associated word embeddings are fine-tuned or trained.\n",
      "Special tokens have been added in the vocabulary, make sure the associated word embeddings are fine-tuned or trained.\n"
     ]
    }
   ],
   "source": [
    "checkpoint_gpt2 = \"PlanTL-GOB-ES/gpt2-base-bne\"\n",
    "gpt2_article_tokens_train = calc_document_tokens(df_train.text, checkpoint_gpt2)\n",
    "gpt2_summary_tokens_train = calc_document_tokens(df_train.summary, checkpoint_gpt2)"
   ]
  },
  {
   "cell_type": "code",
   "execution_count": 54,
   "metadata": {},
   "outputs": [
    {
     "name": "stderr",
     "output_type": "stream",
     "text": [
      "Token indices sequence length is longer than the specified maximum sequence length for this model (2183 > 512). Running this sequence through the model will result in indexing errors\n"
     ]
    }
   ],
   "source": [
    "checkpoint_roberta = \"PlanTL-GOB-ES/roberta-base-bne\"\n",
    "roberta_article_tokens_train = calc_document_tokens(df_train.text, checkpoint_roberta)\n",
    "roberta_summary_tokens_train = calc_document_tokens(df_train.summary, checkpoint_roberta)"
   ]
  },
  {
   "cell_type": "markdown",
   "metadata": {},
   "source": [
    "To perform fine-tuning on a GPT-2 based model, at least 1 token should be reserved for a special token, which will serve as a separator between the article and the summary of each input sample. As you may see from the training sources, our particular take is to use the `<|sep|>` gram as the separator token, albeit a different sequence may be used, so long it does not conflict with an existing entry in the vocabulary of the tokenizer.\n",
    "\n",
    "On the other hand, although we that the input maximum length is constraint to 512 tokens, a programmatic way to check such limitation is by accessing to the `config.n_positions` property of a GPT-2 HuggingFace checkpoint."
   ]
  },
  {
   "cell_type": "code",
   "execution_count": 40,
   "metadata": {},
   "outputs": [
    {
     "name": "stdout",
     "output_type": "stream",
     "text": [
      "Using the \"PlanTL-GOB-ES/gpt2-base-bne\" model, 9692 out of 38110 training samples have <= 511 tokens and thus are subject to application out of the box, whereas 28418 will cause an error unless further measures are taken (e.g., via truncation of info. in a meaningful fashion).\n"
     ]
    }
   ],
   "source": [
    "gpt2_max_n_tokens = GPT2LMHeadModel.from_pretrained(checkpoint_gpt2).config.n_positions\n",
    "gpt2_valid_train = len(list(filter(lambda x: sum(x)<=gpt2_max_n_tokens-1, zip(gpt2_article_tokens_train,gpt2_summary_tokens_train))))\n",
    "gpt2_invalid_train = len(gpt2_article_tokens_train) - gpt2_valid_train\n",
    "# out of the box... how many articles can be processed by the gpt-2 model?\n",
    "print(f'Using the \"{checkpoint_gpt2}\" model, {gpt2_valid_train} out of {len(gpt2_article_tokens_train)} training samples have <= {gpt2_max_n_tokens-1} tokens and thus are subject to application out of the box, whereas {gpt2_invalid_train} will cause an error unless further measures are taken (e.g., via truncation of info. in a meaningful fashion).')"
   ]
  },
  {
   "cell_type": "markdown",
   "metadata": {},
   "source": [
    "Let us further inspect some properties about the samples in the training dataset:\n",
    " * How are the length of the articles and summaries distributed?\n",
    " * Are the length of the article and its summary correlated?"
   ]
  },
  {
   "cell_type": "code",
   "execution_count": 58,
   "metadata": {},
   "outputs": [
    {
     "data": {
      "image/png": "[encoded data removed]",
      "text/plain": [
       "<Figure size 864x288 with 3 Axes>"
      ]
     },
     "metadata": {
      "needs_background": "light"
     },
     "output_type": "display_data"
    }
   ],
   "source": [
    "plot_stats(gpt2_article_tokens_train, gpt2_summary_tokens_train)"
   ]
  },
  {
   "cell_type": "markdown",
   "metadata": {},
   "source": [
    "From the graphs we can tell:\n",
    "* vast majority of the articles are around 500 to 1500 tokens long, whereas regular summary length revolves around 20 to 50 tokens.\n",
    "* summary length seems to be independent from the length of the article.\n",
    "\n",
    "We can also calculate some descriptive statistics summarizing the central tendency, dispersion and shape of the distribution of the article and summary tokens."
   ]
  },
  {
   "cell_type": "code",
   "execution_count": 68,
   "metadata": {
    "scrolled": true
   },
   "outputs": [
    {
     "data": {
      "text/html": [
       "<div>\n",
       "<style scoped>\n",
       "    .dataframe tbody tr th:only-of-type {\n",
       "        vertical-align: middle;\n",
       "    }\n",
       "\n",
       "    .dataframe tbody tr th {\n",
       "        vertical-align: top;\n",
       "    }\n",
       "\n",
       "    .dataframe thead th {\n",
       "        text-align: right;\n",
       "    }\n",
       "</style>\n",
       "<table border=\"1\" class=\"dataframe\">\n",
       "  <thead>\n",
       "    <tr style=\"text-align: right;\">\n",
       "      <th></th>\n",
       "      <th>gpt2_article_tokens_train</th>\n",
       "      <th>gpt2_summary_tokens_train</th>\n",
       "    </tr>\n",
       "  </thead>\n",
       "  <tbody>\n",
       "    <tr>\n",
       "      <th>count</th>\n",
       "      <td>38110.000000</td>\n",
       "      <td>38110.000000</td>\n",
       "    </tr>\n",
       "    <tr>\n",
       "      <th>mean</th>\n",
       "      <td>1034.331068</td>\n",
       "      <td>34.986119</td>\n",
       "    </tr>\n",
       "    <tr>\n",
       "      <th>std</th>\n",
       "      <td>769.745530</td>\n",
       "      <td>14.608020</td>\n",
       "    </tr>\n",
       "    <tr>\n",
       "      <th>min</th>\n",
       "      <td>31.000000</td>\n",
       "      <td>2.000000</td>\n",
       "    </tr>\n",
       "    <tr>\n",
       "      <th>25%</th>\n",
       "      <td>466.000000</td>\n",
       "      <td>25.000000</td>\n",
       "    </tr>\n",
       "    <tr>\n",
       "      <th>50%</th>\n",
       "      <td>956.000000</td>\n",
       "      <td>34.000000</td>\n",
       "    </tr>\n",
       "    <tr>\n",
       "      <th>75%</th>\n",
       "      <td>1415.000000</td>\n",
       "      <td>43.000000</td>\n",
       "    </tr>\n",
       "    <tr>\n",
       "      <th>max</th>\n",
       "      <td>12421.000000</td>\n",
       "      <td>216.000000</td>\n",
       "    </tr>\n",
       "  </tbody>\n",
       "</table>\n",
       "</div>"
      ],
      "text/plain": [
       "       gpt2_article_tokens_train  gpt2_summary_tokens_train\n",
       "count               38110.000000               38110.000000\n",
       "mean                 1034.331068                  34.986119\n",
       "std                   769.745530                  14.608020\n",
       "min                    31.000000                   2.000000\n",
       "25%                   466.000000                  25.000000\n",
       "50%                   956.000000                  34.000000\n",
       "75%                  1415.000000                  43.000000\n",
       "max                 12421.000000                 216.000000"
      ]
     },
     "execution_count": 68,
     "metadata": {},
     "output_type": "execute_result"
    }
   ],
   "source": [
    "pd.DataFrame(list(zip(gpt2_article_tokens_train,gpt2_summary_tokens_train)), columns=[\"gpt2_article_tokens_train\", \"gpt2_summary_tokens_train\"]).describe()"
   ]
  },
  {
   "cell_type": "markdown",
   "metadata": {},
   "source": [
    "Conclusions:\n",
    "* Mean number of article tokens in the training set: $1034\\pm770$. 770 is a large standard deviation, hence the mean is not a  very informative statistic (e.g., because of the influence of extreme values). The median may be more useful: $956$ tokens.\n",
    "\n",
    "* Mean number of summary tokens in the training set: $35\\pm15$. The value of the median is very similar: $34$."
   ]
  },
  {
   "cell_type": "markdown",
   "metadata": {},
   "source": [
    "Let us do the same for the RoBERTa LM, considering that the maximum number of tokens that the model can handle is two less than that reported of the model, being as we need to reserve two extra positions (or segments) for two special tokens. To double-check the maximum input of the length we can access to the `config.max_position_embeddings` property of the RoBERTa HuggingFace checkpoint."
   ]
  },
  {
   "cell_type": "code",
   "execution_count": 30,
   "metadata": {},
   "outputs": [],
   "source": [
    "roberta = RobertaForMaskedLM.from_pretrained(checkpoint_roberta)"
   ]
  },
  {
   "cell_type": "code",
   "execution_count": 39,
   "metadata": {},
   "outputs": [
    {
     "name": "stdout",
     "output_type": "stream",
     "text": [
      "Using the \"PlanTL-GOB-ES/roberta-base-bne\" model, 10235 out of 38110 training samples have <= 512 tokens and thus are subject to application out of the box, whereas 27875 will cause an error unless further measures are taken (e.g., via truncation of info. in a meaningful fashion).\n"
     ]
    }
   ],
   "source": [
    "roberta_max_n_tokens = RobertaForMaskedLM.from_pretrained(checkpoint_roberta).config.max_position_embeddings - 2 # reserve tokens for [CLS] and [EOS]\n",
    "roberta_valid_train = len(list(filter(lambda x: x<=roberta_max_n_tokens, roberta_article_tokens_train)))\n",
    "roberta_invalid_train = len(roberta_article_tokens_train) - roberta_valid_train\n",
    "# out of the box... how many articles can be processed by the roberta model?\n",
    "print(f'Using the \"{checkpoint_roberta}\" model, {roberta_valid_train} out of {len(roberta_article_tokens_train)} training samples have <= {roberta_max_n_tokens} tokens and thus are subject to application out of the box, whereas {roberta_invalid_train} will cause an error unless further measures are taken (e.g., via truncation of info. in a meaningful fashion).')"
   ]
  },
  {
   "cell_type": "code",
   "execution_count": 61,
   "metadata": {},
   "outputs": [
    {
     "data": {
      "image/png": "[encoded data removed]",
      "text/plain": [
       "<Figure size 864x288 with 3 Axes>"
      ]
     },
     "metadata": {
      "needs_background": "light"
     },
     "output_type": "display_data"
    }
   ],
   "source": [
    "plot_stats(roberta_article_tokens_train, roberta_summary_tokens_train)"
   ]
  },
  {
   "cell_type": "code",
   "execution_count": 69,
   "metadata": {},
   "outputs": [
    {
     "data": {
      "text/html": [
       "<div>\n",
       "<style scoped>\n",
       "    .dataframe tbody tr th:only-of-type {\n",
       "        vertical-align: middle;\n",
       "    }\n",
       "\n",
       "    .dataframe tbody tr th {\n",
       "        vertical-align: top;\n",
       "    }\n",
       "\n",
       "    .dataframe thead th {\n",
       "        text-align: right;\n",
       "    }\n",
       "</style>\n",
       "<table border=\"1\" class=\"dataframe\">\n",
       "  <thead>\n",
       "    <tr style=\"text-align: right;\">\n",
       "      <th></th>\n",
       "      <th>roberta_article_tokens_train</th>\n",
       "      <th>roberta_summary_tokens_train</th>\n",
       "    </tr>\n",
       "  </thead>\n",
       "  <tbody>\n",
       "    <tr>\n",
       "      <th>count</th>\n",
       "      <td>38110.000000</td>\n",
       "      <td>38110.000000</td>\n",
       "    </tr>\n",
       "    <tr>\n",
       "      <th>mean</th>\n",
       "      <td>1035.331068</td>\n",
       "      <td>35.986119</td>\n",
       "    </tr>\n",
       "    <tr>\n",
       "      <th>std</th>\n",
       "      <td>769.745530</td>\n",
       "      <td>14.608020</td>\n",
       "    </tr>\n",
       "    <tr>\n",
       "      <th>min</th>\n",
       "      <td>32.000000</td>\n",
       "      <td>3.000000</td>\n",
       "    </tr>\n",
       "    <tr>\n",
       "      <th>25%</th>\n",
       "      <td>467.000000</td>\n",
       "      <td>26.000000</td>\n",
       "    </tr>\n",
       "    <tr>\n",
       "      <th>50%</th>\n",
       "      <td>957.000000</td>\n",
       "      <td>35.000000</td>\n",
       "    </tr>\n",
       "    <tr>\n",
       "      <th>75%</th>\n",
       "      <td>1416.000000</td>\n",
       "      <td>44.000000</td>\n",
       "    </tr>\n",
       "    <tr>\n",
       "      <th>max</th>\n",
       "      <td>12422.000000</td>\n",
       "      <td>217.000000</td>\n",
       "    </tr>\n",
       "  </tbody>\n",
       "</table>\n",
       "</div>"
      ],
      "text/plain": [
       "       roberta_article_tokens_train  roberta_summary_tokens_train\n",
       "count                  38110.000000                  38110.000000\n",
       "mean                    1035.331068                     35.986119\n",
       "std                      769.745530                     14.608020\n",
       "min                       32.000000                      3.000000\n",
       "25%                      467.000000                     26.000000\n",
       "50%                      957.000000                     35.000000\n",
       "75%                     1416.000000                     44.000000\n",
       "max                    12422.000000                    217.000000"
      ]
     },
     "execution_count": 69,
     "metadata": {},
     "output_type": "execute_result"
    }
   ],
   "source": [
    "pd.DataFrame(list(zip(roberta_article_tokens_train,roberta_summary_tokens_train)), columns=[\"roberta_article_tokens_train\", \"roberta_summary_tokens_train\"]).describe()"
   ]
  },
  {
   "cell_type": "markdown",
   "metadata": {},
   "source": [
    "Analogous conclusions can be inferred when using the RoBERTa tokenizer, with nearly negligible differences."
   ]
  },
  {
   "cell_type": "markdown",
   "metadata": {},
   "source": [
    "### Validation set"
   ]
  },
  {
   "cell_type": "markdown",
   "metadata": {},
   "source": [
    "Now, let us conduct this experiment on the validation and test datasets:"
   ]
  },
  {
   "cell_type": "code",
   "execution_count": 42,
   "metadata": {},
   "outputs": [],
   "source": [
    "df_val = pd.read_json(VAL_PATH, lines=True)[[\"id\", \"summary\", \"text\"]]"
   ]
  },
  {
   "cell_type": "code",
   "execution_count": 41,
   "metadata": {
    "scrolled": true
   },
   "outputs": [
    {
     "name": "stderr",
     "output_type": "stream",
     "text": [
      "Special tokens have been added in the vocabulary, make sure the associated word embeddings are fine-tuned or trained.\n",
      "Special tokens have been added in the vocabulary, make sure the associated word embeddings are fine-tuned or trained.\n"
     ]
    }
   ],
   "source": [
    "gpt2_article_tokens_val = calc_document_tokens(df_val.text, checkpoint_gpt2)\n",
    "gpt2_summary_tokens_val = calc_document_tokens(df_val.summary, checkpoint_gpt2)"
   ]
  },
  {
   "cell_type": "code",
   "execution_count": 44,
   "metadata": {
    "scrolled": false
   },
   "outputs": [
    {
     "name": "stdout",
     "output_type": "stream",
     "text": [
      "Using the \"PlanTL-GOB-ES/gpt2-base-bne\" model, 814 out of 4763 validation samples have <= 511 tokens and thus are subject to application out of the box, whereas 3949 will cause an error unless further measures are taken.\n"
     ]
    }
   ],
   "source": [
    "gpt2_valid_val = len(list(filter(lambda x: sum(x)<=gpt2_max_n_tokens-1, zip(gpt2_article_tokens_val,gpt2_summary_tokens_val))))\n",
    "gpt2_invalid_val = len(gpt2_article_tokens_val) - gpt2_valid_val\n",
    "print(f'Using the \"{checkpoint_gpt2}\" model, {gpt2_valid_val} out of {len(gpt2_article_tokens_val)} validation samples have <= {gpt2_max_n_tokens-1} tokens and thus are subject to application out of the box, whereas {gpt2_invalid_val} will cause an error unless further measures are taken.')"
   ]
  },
  {
   "cell_type": "code",
   "execution_count": 70,
   "metadata": {
    "scrolled": true
   },
   "outputs": [
    {
     "data": {
      "image/png": "[encoded data removed]",
      "text/plain": [
       "<Figure size 864x288 with 3 Axes>"
      ]
     },
     "metadata": {
      "needs_background": "light"
     },
     "output_type": "display_data"
    }
   ],
   "source": [
    "plot_stats(gpt2_article_tokens_val, gpt2_summary_tokens_val)"
   ]
  },
  {
   "cell_type": "code",
   "execution_count": 71,
   "metadata": {
    "scrolled": true
   },
   "outputs": [
    {
     "data": {
      "text/html": [
       "<div>\n",
       "<style scoped>\n",
       "    .dataframe tbody tr th:only-of-type {\n",
       "        vertical-align: middle;\n",
       "    }\n",
       "\n",
       "    .dataframe tbody tr th {\n",
       "        vertical-align: top;\n",
       "    }\n",
       "\n",
       "    .dataframe thead th {\n",
       "        text-align: right;\n",
       "    }\n",
       "</style>\n",
       "<table border=\"1\" class=\"dataframe\">\n",
       "  <thead>\n",
       "    <tr style=\"text-align: right;\">\n",
       "      <th></th>\n",
       "      <th>gpt2_article_tokens_val</th>\n",
       "      <th>gpt2_summary_tokens_val</th>\n",
       "    </tr>\n",
       "  </thead>\n",
       "  <tbody>\n",
       "    <tr>\n",
       "      <th>count</th>\n",
       "      <td>4763.000000</td>\n",
       "      <td>4763.000000</td>\n",
       "    </tr>\n",
       "    <tr>\n",
       "      <th>mean</th>\n",
       "      <td>950.719295</td>\n",
       "      <td>34.226748</td>\n",
       "    </tr>\n",
       "    <tr>\n",
       "      <th>std</th>\n",
       "      <td>446.983980</td>\n",
       "      <td>11.507983</td>\n",
       "    </tr>\n",
       "    <tr>\n",
       "      <th>min</th>\n",
       "      <td>75.000000</td>\n",
       "      <td>11.000000</td>\n",
       "    </tr>\n",
       "    <tr>\n",
       "      <th>25%</th>\n",
       "      <td>615.000000</td>\n",
       "      <td>25.000000</td>\n",
       "    </tr>\n",
       "    <tr>\n",
       "      <th>50%</th>\n",
       "      <td>951.000000</td>\n",
       "      <td>33.000000</td>\n",
       "    </tr>\n",
       "    <tr>\n",
       "      <th>75%</th>\n",
       "      <td>1286.000000</td>\n",
       "      <td>42.000000</td>\n",
       "    </tr>\n",
       "    <tr>\n",
       "      <th>max</th>\n",
       "      <td>2038.000000</td>\n",
       "      <td>73.000000</td>\n",
       "    </tr>\n",
       "  </tbody>\n",
       "</table>\n",
       "</div>"
      ],
      "text/plain": [
       "       gpt2_article_tokens_val  gpt2_summary_tokens_val\n",
       "count              4763.000000              4763.000000\n",
       "mean                950.719295                34.226748\n",
       "std                 446.983980                11.507983\n",
       "min                  75.000000                11.000000\n",
       "25%                 615.000000                25.000000\n",
       "50%                 951.000000                33.000000\n",
       "75%                1286.000000                42.000000\n",
       "max                2038.000000                73.000000"
      ]
     },
     "execution_count": 71,
     "metadata": {},
     "output_type": "execute_result"
    }
   ],
   "source": [
    "pd.DataFrame(list(zip(gpt2_article_tokens_val,gpt2_summary_tokens_val)), columns=[\"gpt2_article_tokens_val\", \"gpt2_summary_tokens_val\"]).describe()"
   ]
  },
  {
   "cell_type": "markdown",
   "metadata": {},
   "source": [
    "We can draw similar conclusions to those obtained for the training set:\n",
    "* Vast majority of the articles are around 600 to 1200 tokens long, whereas regular summary length revolves around 20 to 45 tokens.\n",
    "* Summary length seems to be independent from the length of the article.\n",
    "* Mean number of article tokens in the validation set: $950\\pm447$. Fairly close to the median: $951$ tokens.\n",
    "* Mean number of summary tokens in the validation set: $34\\pm12$. The value of the median is very similar: $33$.\n",
    "\n",
    "In order to avoid verbosity, we eschew reproducing these experiments using the RoBERTa tokenizer, since very similar results are to expect."
   ]
  },
  {
   "cell_type": "code",
   "execution_count": 55,
   "metadata": {
    "scrolled": false
   },
   "outputs": [
    {
     "name": "stderr",
     "output_type": "stream",
     "text": [
      "Token indices sequence length is longer than the specified maximum sequence length for this model (780 > 512). Running this sequence through the model will result in indexing errors\n"
     ]
    }
   ],
   "source": [
    "roberta_article_tokens_val = calc_document_tokens(df_val.text, checkpoint_roberta)\n",
    "roberta_summary_tokens_val = calc_document_tokens(df_val.summary, checkpoint_roberta)"
   ]
  },
  {
   "cell_type": "code",
   "execution_count": 46,
   "metadata": {},
   "outputs": [
    {
     "name": "stdout",
     "output_type": "stream",
     "text": [
      "Using the \"PlanTL-GOB-ES/roberta-base-bne\" model, 903 out of 4763 training samples have <= 512 tokens and thus are subject to application out of the box, whereas 3860 will cause an error unless further measures are taken.\n"
     ]
    }
   ],
   "source": [
    "roberta_valid_val = len(list(filter(lambda x: x<=roberta_max_n_tokens, roberta_article_tokens_val)))\n",
    "roberta_invalid_val = len(roberta_article_tokens_val) - roberta_valid_val\n",
    "print(f'Using the \"{checkpoint_roberta}\" model, {roberta_valid_val} out of {len(roberta_article_tokens_val)} training samples have <= {roberta_max_n_tokens} tokens and thus are subject to application out of the box, whereas {roberta_invalid_val} will cause an error unless further measures are taken.')"
   ]
  },
  {
   "cell_type": "markdown",
   "metadata": {},
   "source": [
    "### Test set"
   ]
  },
  {
   "cell_type": "code",
   "execution_count": 48,
   "metadata": {},
   "outputs": [],
   "source": [
    "df_test = pd.read_json(TEST_PATH, lines=True)[[\"id\", \"summary\", \"text\"]]"
   ]
  },
  {
   "cell_type": "code",
   "execution_count": 49,
   "metadata": {
    "scrolled": true
   },
   "outputs": [
    {
     "name": "stderr",
     "output_type": "stream",
     "text": [
      "Special tokens have been added in the vocabulary, make sure the associated word embeddings are fine-tuned or trained.\n",
      "Special tokens have been added in the vocabulary, make sure the associated word embeddings are fine-tuned or trained.\n"
     ]
    }
   ],
   "source": [
    "gpt2_article_tokens_test = calc_document_tokens(df_test.text, checkpoint_gpt2)\n",
    "gpt2_summary_tokens_test = calc_document_tokens(df_test.summary, checkpoint_gpt2)"
   ]
  },
  {
   "cell_type": "code",
   "execution_count": 50,
   "metadata": {
    "scrolled": true
   },
   "outputs": [
    {
     "name": "stdout",
     "output_type": "stream",
     "text": [
      "Using the \"PlanTL-GOB-ES/gpt2-base-bne\" model, 804 out of 4763 test samples have <= 511 tokens and thus are subject to application out of the box, whereas 3949 will cause an error unless further measures are taken.\n"
     ]
    }
   ],
   "source": [
    "gpt2_valid_test = len(list(filter(lambda x: sum(x)<=gpt2_max_n_tokens-1, zip(gpt2_article_tokens_test,gpt2_summary_tokens_test))))\n",
    "gpt2_invalid_test = len(gpt2_article_tokens_test) - gpt2_valid_val\n",
    "print(f'Using the \"{checkpoint_gpt2}\" model, {gpt2_valid_test} out of {len(gpt2_article_tokens_test)} test samples have <= {gpt2_max_n_tokens-1} tokens and thus are subject to application out of the box, whereas {gpt2_invalid_test} will cause an error unless further measures are taken.')"
   ]
  },
  {
   "cell_type": "code",
   "execution_count": 72,
   "metadata": {
    "scrolled": true
   },
   "outputs": [
    {
     "data": {
      "image/png": "[encoded data removed]",
      "text/plain": [
       "<Figure size 864x288 with 3 Axes>"
      ]
     },
     "metadata": {
      "needs_background": "light"
     },
     "output_type": "display_data"
    }
   ],
   "source": [
    "plot_stats(gpt2_article_tokens_test, gpt2_summary_tokens_test)"
   ]
  },
  {
   "cell_type": "code",
   "execution_count": 73,
   "metadata": {
    "scrolled": true
   },
   "outputs": [
    {
     "data": {
      "text/html": [
       "<div>\n",
       "<style scoped>\n",
       "    .dataframe tbody tr th:only-of-type {\n",
       "        vertical-align: middle;\n",
       "    }\n",
       "\n",
       "    .dataframe tbody tr th {\n",
       "        vertical-align: top;\n",
       "    }\n",
       "\n",
       "    .dataframe thead th {\n",
       "        text-align: right;\n",
       "    }\n",
       "</style>\n",
       "<table border=\"1\" class=\"dataframe\">\n",
       "  <thead>\n",
       "    <tr style=\"text-align: right;\">\n",
       "      <th></th>\n",
       "      <th>gpt2_article_tokens_test</th>\n",
       "      <th>gpt2_summary_tokens_test</th>\n",
       "    </tr>\n",
       "  </thead>\n",
       "  <tbody>\n",
       "    <tr>\n",
       "      <th>count</th>\n",
       "      <td>4763.000000</td>\n",
       "      <td>4763.000000</td>\n",
       "    </tr>\n",
       "    <tr>\n",
       "      <th>mean</th>\n",
       "      <td>948.605921</td>\n",
       "      <td>34.231787</td>\n",
       "    </tr>\n",
       "    <tr>\n",
       "      <th>std</th>\n",
       "      <td>444.319426</td>\n",
       "      <td>11.396173</td>\n",
       "    </tr>\n",
       "    <tr>\n",
       "      <th>min</th>\n",
       "      <td>75.000000</td>\n",
       "      <td>11.000000</td>\n",
       "    </tr>\n",
       "    <tr>\n",
       "      <th>25%</th>\n",
       "      <td>616.000000</td>\n",
       "      <td>26.000000</td>\n",
       "    </tr>\n",
       "    <tr>\n",
       "      <th>50%</th>\n",
       "      <td>951.000000</td>\n",
       "      <td>33.000000</td>\n",
       "    </tr>\n",
       "    <tr>\n",
       "      <th>75%</th>\n",
       "      <td>1283.000000</td>\n",
       "      <td>42.000000</td>\n",
       "    </tr>\n",
       "    <tr>\n",
       "      <th>max</th>\n",
       "      <td>2002.000000</td>\n",
       "      <td>73.000000</td>\n",
       "    </tr>\n",
       "  </tbody>\n",
       "</table>\n",
       "</div>"
      ],
      "text/plain": [
       "       gpt2_article_tokens_test  gpt2_summary_tokens_test\n",
       "count               4763.000000               4763.000000\n",
       "mean                 948.605921                 34.231787\n",
       "std                  444.319426                 11.396173\n",
       "min                   75.000000                 11.000000\n",
       "25%                  616.000000                 26.000000\n",
       "50%                  951.000000                 33.000000\n",
       "75%                 1283.000000                 42.000000\n",
       "max                 2002.000000                 73.000000"
      ]
     },
     "execution_count": 73,
     "metadata": {},
     "output_type": "execute_result"
    }
   ],
   "source": [
    "pd.DataFrame(list(zip(gpt2_article_tokens_test,gpt2_summary_tokens_test)), columns=[\"gpt2_article_tokens_test\", \"gpt2_summary_tokens_test\"]).describe()"
   ]
  },
  {
   "cell_type": "markdown",
   "metadata": {},
   "source": [
    "We can draw similar conclusions to those obtained for the training and validation set, which enable us to assert that, overall, **the number of article and summary tokens across the different datasets are independent and identically distributed**:\n",
    "* Vast majority of the articles are around 600 to 1200 tokens long, whereas regular summary length revolves around 20 to 45 tokens.\n",
    "* Summary length seems to be independent from the length of the article.\n",
    "* Mean number of article tokens in the test set: $959\\pm444$. Fairly close to the median: $951$ tokens.\n",
    "* Mean number of summary tokens in the test set: $34\\pm11$. The value of the median is very similar: $33$.\n",
    "\n",
    "In order to avoid verbosity, we eschew reproducing these experiments using the RoBERTa tokenizer, since very similar results are to expect."
   ]
  },
  {
   "cell_type": "code",
   "execution_count": 56,
   "metadata": {
    "scrolled": true
   },
   "outputs": [
    {
     "name": "stderr",
     "output_type": "stream",
     "text": [
      "Token indices sequence length is longer than the specified maximum sequence length for this model (1248 > 512). Running this sequence through the model will result in indexing errors\n"
     ]
    }
   ],
   "source": [
    "roberta_article_tokens_test = calc_document_tokens(df_test.text, checkpoint_roberta)\n",
    "roberta_summary_tokens_test = calc_document_tokens(df_test.summary, checkpoint_roberta)"
   ]
  },
  {
   "cell_type": "code",
   "execution_count": 52,
   "metadata": {},
   "outputs": [
    {
     "name": "stdout",
     "output_type": "stream",
     "text": [
      "Using the \"PlanTL-GOB-ES/roberta-base-bne\" model, 897 out of 4763 training samples have <= 512 tokens and thus are subject to application out of the box, whereas 3866 will cause an error unless further measures are taken.\n"
     ]
    }
   ],
   "source": [
    "roberta_valid_test = len(list(filter(lambda x: x<=roberta_max_n_tokens, roberta_article_tokens_test)))\n",
    "roberta_invalid_test = len(roberta_article_tokens_test) - roberta_valid_test\n",
    "print(f'Using the \"{checkpoint_roberta}\" model, {roberta_valid_test} out of {len(roberta_article_tokens_test)} training samples have <= {roberta_max_n_tokens} tokens and thus are subject to application out of the box, whereas {roberta_invalid_test} will cause an error unless further measures are taken.')"
   ]
  },
  {
   "cell_type": "markdown",
   "metadata": {},
   "source": [
    "## Recap"
   ]
  },
  {
   "cell_type": "markdown",
   "metadata": {},
   "source": [
    "Let us bring all data together to draw the final conclusions. To that end, and considering differences between the number of subwords using the different tokenizers, we will repeat the previous process using the training, validation and test sets altogether."
   ]
  },
  {
   "cell_type": "code",
   "execution_count": 78,
   "metadata": {},
   "outputs": [],
   "source": [
    "gpt2_article_tokens = gpt2_article_tokens_train + gpt2_article_tokens_val + gpt2_article_tokens_test\n",
    "gpt2_summary_tokens = gpt2_summary_tokens_train + gpt2_summary_tokens_val + gpt2_summary_tokens_test"
   ]
  },
  {
   "cell_type": "code",
   "execution_count": 79,
   "metadata": {},
   "outputs": [
    {
     "data": {
      "image/png": "[encoded data removed]",
      "text/plain": [
       "<Figure size 864x288 with 3 Axes>"
      ]
     },
     "metadata": {
      "needs_background": "light"
     },
     "output_type": "display_data"
    }
   ],
   "source": [
    "plot_stats(gpt2_article_tokens, gpt2_summary_tokens)"
   ]
  },
  {
   "cell_type": "code",
   "execution_count": 87,
   "metadata": {},
   "outputs": [
    {
     "data": {
      "text/html": [
       "<div>\n",
       "<style scoped>\n",
       "    .dataframe tbody tr th:only-of-type {\n",
       "        vertical-align: middle;\n",
       "    }\n",
       "\n",
       "    .dataframe tbody tr th {\n",
       "        vertical-align: top;\n",
       "    }\n",
       "\n",
       "    .dataframe thead th {\n",
       "        text-align: right;\n",
       "    }\n",
       "</style>\n",
       "<table border=\"1\" class=\"dataframe\">\n",
       "  <thead>\n",
       "    <tr style=\"text-align: right;\">\n",
       "      <th></th>\n",
       "      <th>gpt2_article_tokens</th>\n",
       "      <th>gpt2_summary_tokens</th>\n",
       "    </tr>\n",
       "  </thead>\n",
       "  <tbody>\n",
       "    <tr>\n",
       "      <th>count</th>\n",
       "      <td>47636.000000</td>\n",
       "      <td>47636.000000</td>\n",
       "    </tr>\n",
       "    <tr>\n",
       "      <th>mean</th>\n",
       "      <td>1017.399509</td>\n",
       "      <td>34.834768</td>\n",
       "    </tr>\n",
       "    <tr>\n",
       "      <th>std</th>\n",
       "      <td>717.547947</td>\n",
       "      <td>14.036877</td>\n",
       "    </tr>\n",
       "    <tr>\n",
       "      <th>min</th>\n",
       "      <td>31.000000</td>\n",
       "      <td>2.000000</td>\n",
       "    </tr>\n",
       "    <tr>\n",
       "      <th>25%</th>\n",
       "      <td>506.000000</td>\n",
       "      <td>25.000000</td>\n",
       "    </tr>\n",
       "    <tr>\n",
       "      <th>50%</th>\n",
       "      <td>955.000000</td>\n",
       "      <td>34.000000</td>\n",
       "    </tr>\n",
       "    <tr>\n",
       "      <th>75%</th>\n",
       "      <td>1379.000000</td>\n",
       "      <td>43.000000</td>\n",
       "    </tr>\n",
       "    <tr>\n",
       "      <th>max</th>\n",
       "      <td>12421.000000</td>\n",
       "      <td>216.000000</td>\n",
       "    </tr>\n",
       "  </tbody>\n",
       "</table>\n",
       "</div>"
      ],
      "text/plain": [
       "       gpt2_article_tokens  gpt2_summary_tokens\n",
       "count         47636.000000         47636.000000\n",
       "mean           1017.399509            34.834768\n",
       "std             717.547947            14.036877\n",
       "min              31.000000             2.000000\n",
       "25%             506.000000            25.000000\n",
       "50%             955.000000            34.000000\n",
       "75%            1379.000000            43.000000\n",
       "max           12421.000000           216.000000"
      ]
     },
     "execution_count": 87,
     "metadata": {},
     "output_type": "execute_result"
    }
   ],
   "source": [
    "df_gpt2_tokens = pd.DataFrame(list(zip(gpt2_article_tokens,gpt2_summary_tokens)), columns=[\"gpt2_article_tokens\", \"gpt2_summary_tokens\"])\n",
    "df_gpt2_tokens.describe()"
   ]
  },
  {
   "cell_type": "markdown",
   "metadata": {},
   "source": [
    "* Vast majority of the articles are around 500 to 1300 tokens long, whereas regular summary length revolves around 25 to 45 tokens.\n",
    "* Summary length seems to be independent from the length of the article.\n",
    "* Mean number of article tokens in the training set: $1017\\pm718$. Fairly close to the median: $955$ tokens.\n",
    "* Mean number of summary tokens in the training set: $35\\pm14$. The value of the median is very similar: $34$.\n",
    "\n",
    "Some implications of these statistics is that when fine-tuning our models, no matter the data that is used to (i) train the models, (ii) validate or supervise the training process, and to (iii) assess goodness of the resulting models, if we aim at maximising performance metrics like ROUGE, one thing to bear in mind is that the summaries should have a length of around $35\\pm14$ tokens. This is essentially due to the fact that, even if we solely use samples that can be entirely fitted into the model (i.e., without the need to trim/remove information from the original article and/or summary), the extent of the summary in terms of no. of subwords is independent of the size of the article. We can, indeed, double check it ourselves:"
   ]
  },
  {
   "cell_type": "code",
   "execution_count": 90,
   "metadata": {},
   "outputs": [
    {
     "data": {
      "text/html": [
       "<div>\n",
       "<style scoped>\n",
       "    .dataframe tbody tr th:only-of-type {\n",
       "        vertical-align: middle;\n",
       "    }\n",
       "\n",
       "    .dataframe tbody tr th {\n",
       "        vertical-align: top;\n",
       "    }\n",
       "\n",
       "    .dataframe thead th {\n",
       "        text-align: right;\n",
       "    }\n",
       "</style>\n",
       "<table border=\"1\" class=\"dataframe\">\n",
       "  <thead>\n",
       "    <tr style=\"text-align: right;\">\n",
       "      <th></th>\n",
       "      <th>gpt2_article_tokens</th>\n",
       "      <th>gpt2_summary_tokens</th>\n",
       "    </tr>\n",
       "  </thead>\n",
       "  <tbody>\n",
       "    <tr>\n",
       "      <th>count</th>\n",
       "      <td>12063.000000</td>\n",
       "      <td>12063.000000</td>\n",
       "    </tr>\n",
       "    <tr>\n",
       "      <th>mean</th>\n",
       "      <td>231.739120</td>\n",
       "      <td>34.641383</td>\n",
       "    </tr>\n",
       "    <tr>\n",
       "      <th>std</th>\n",
       "      <td>131.832378</td>\n",
       "      <td>11.038794</td>\n",
       "    </tr>\n",
       "    <tr>\n",
       "      <th>min</th>\n",
       "      <td>31.000000</td>\n",
       "      <td>4.000000</td>\n",
       "    </tr>\n",
       "    <tr>\n",
       "      <th>25%</th>\n",
       "      <td>126.000000</td>\n",
       "      <td>27.000000</td>\n",
       "    </tr>\n",
       "    <tr>\n",
       "      <th>50%</th>\n",
       "      <td>180.000000</td>\n",
       "      <td>34.000000</td>\n",
       "    </tr>\n",
       "    <tr>\n",
       "      <th>75%</th>\n",
       "      <td>337.000000</td>\n",
       "      <td>41.000000</td>\n",
       "    </tr>\n",
       "    <tr>\n",
       "      <th>max</th>\n",
       "      <td>512.000000</td>\n",
       "      <td>98.000000</td>\n",
       "    </tr>\n",
       "  </tbody>\n",
       "</table>\n",
       "</div>"
      ],
      "text/plain": [
       "       gpt2_article_tokens  gpt2_summary_tokens\n",
       "count         12063.000000         12063.000000\n",
       "mean            231.739120            34.641383\n",
       "std             131.832378            11.038794\n",
       "min              31.000000             4.000000\n",
       "25%             126.000000            27.000000\n",
       "50%             180.000000            34.000000\n",
       "75%             337.000000            41.000000\n",
       "max             512.000000            98.000000"
      ]
     },
     "execution_count": 90,
     "metadata": {},
     "output_type": "execute_result"
    }
   ],
   "source": [
    "df_gpt2_tokens[df_gpt2_tokens.gpt2_article_tokens <= gpt2_max_n_tokens].describe()"
   ]
  }
 ],
 "metadata": {
  "interpreter": {
   "hash": "84d8cac4d95fdd2ab02498a6ec40a50cb9882041e67cb52e6d8bcfda00d28db9"
  },
  "kernelspec": {
   "display_name": "Python 3 (ipykernel)",
   "language": "python",
   "name": "python3"
  },
  "language_info": {
   "codemirror_mode": {
    "name": "ipython",
    "version": 3
   },
   "file_extension": ".py",
   "mimetype": "text/x-python",
   "name": "python",
   "nbconvert_exporter": "python",
   "pygments_lexer": "ipython3",
   "version": "3.9.7"
  }
 },
 "nbformat": 4,
 "nbformat_minor": 2
}
